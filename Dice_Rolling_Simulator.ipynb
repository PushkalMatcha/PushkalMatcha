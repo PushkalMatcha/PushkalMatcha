{
  "nbformat": 4,
  "nbformat_minor": 0,
  "metadata": {
    "colab": {
      "provenance": [],
      "authorship_tag": "ABX9TyMo7/KK8qk+2G2khn7BOZia",
      "include_colab_link": true
    },
    "kernelspec": {
      "name": "python3",
      "display_name": "Python 3"
    },
    "language_info": {
      "name": "python"
    }
  },
  "cells": [
    {
      "cell_type": "markdown",
      "metadata": {
        "id": "view-in-github",
        "colab_type": "text"
      },
      "source": [
        "<a href=\"https://colab.research.google.com/github/PushkalMatcha/PushkalMatcha/blob/main/Dice_Rolling_Simulator.ipynb\" target=\"_parent\"><img src=\"https://colab.research.google.com/assets/colab-badge.svg\" alt=\"Open In Colab\"/></a>"
      ]
    },
    {
      "cell_type": "code",
      "execution_count": 1,
      "metadata": {
        "colab": {
          "base_uri": "https://localhost:8080/"
        },
        "id": "7AQrEoHJ1sdJ",
        "outputId": "abf5bd97-51cd-449e-8d18-ebd30a7b58c5"
      },
      "outputs": [
        {
          "output_type": "stream",
          "name": "stdout",
          "text": [
            "I Welcome you guys to the Dice Rolling Simulator!\n",
            "Enter the number of dice to roll: 2\n",
            "Enter the number of sides on each die: 66\n",
            "Press Enter to roll the dice (or type 'quit' to exit): \n",
            "Rolling...\n",
            "Results: [19, 31]\n",
            "Total: 50\n",
            "\n",
            "Roll again? (yes/no): no\n",
            "Thanks for rolling with us!\n"
          ]
        }
      ],
      "source": [
        "import random\n",
        "\n",
        "def roll_dice(num_dice, num_sides):\n",
        "    \"\"\"Simulates rolling multiple dice with a specified number of sides.\"\"\"\n",
        "    rolls = []\n",
        "    for _ in range(num_dice):\n",
        "        roll = random.randint(1, num_sides)\n",
        "        rolls.append(roll)\n",
        "    return rolls\n",
        "\n",
        "def main():\n",
        "    print(\"I Welcome you guys to the Dice Rolling Simulator!\")\n",
        "\n",
        "    while True:\n",
        "        try:\n",
        "            num_dice = int(input(\"Enter the number of dice to roll: \"))\n",
        "            num_sides = int(input(\"Enter the number of sides on each die: \"))\n",
        "            if num_dice <= 0 or num_sides <= 0:\n",
        "                raise ValueError(\"Number of dice and number of sides must be positive integers.\")\n",
        "            break\n",
        "        except ValueError as e:\n",
        "            print(\"Invalid input. Please enter positive integers.\")\n",
        "\n",
        "    while True:\n",
        "        input(\"Press Enter to roll the dice (or type 'quit' to exit): \")\n",
        "        rolls = roll_dice(num_dice, num_sides)\n",
        "        print(\"Rolling...\")\n",
        "        print(\"Results:\", rolls)\n",
        "        print(\"Total:\", sum(rolls))\n",
        "        print()\n",
        "\n",
        "        choice = input(\"Roll again? (yes/no): \").lower()\n",
        "        if choice != \"yes\":\n",
        "            break\n",
        "\n",
        "    print(\"Thanks for rolling with us!\")\n",
        "\n",
        "if __name__ == \"__main__\":\n",
        "    main()\n"
      ]
    }
  ]
}